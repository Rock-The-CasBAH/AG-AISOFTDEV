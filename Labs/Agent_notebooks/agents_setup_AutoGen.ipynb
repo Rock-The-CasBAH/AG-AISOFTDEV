{
 "cells": [
  {
   "cell_type": "markdown",
   "metadata": {},
   "source": [
    "# Microsoft AutoGen: Building Conversational Agent Teams\n",
    "\n",
    "**Objective:** This notebook introduces Microsoft AutoGen, a powerful framework for creating multi-agent systems that solve tasks through conversation. You will learn how to set up a team of agents that can write code, execute it, and collaborate to achieve a user's goal.\n",
    "\n",
    "**Target Audience:** Software engineers attending the AI-Driven Software Engineering Program.\n",
    "\n",
    "**Core Philosophy:** AutoGen's core idea is that many complex tasks can be solved by a team of specialized agents conversing with each other. It provides a flexible and powerful platform for defining these agents and orchestrating their interactions."
   ]
  },
  {
   "cell_type": "markdown",
   "metadata": {},
   "source": [
    "## 1. Setup\n",
    "\n",
    "We will install `pyautogen` and configure our LLM provider. AutoGen is optimized for the OpenAI API format, so we will use that for this lab."
   ]
  },
  {
   "cell_type": "code",
   "execution_count": 1,
   "metadata": {},
   "outputs": [],
   "source": [
    "import os\n",
    "from dotenv import load_dotenv\n",
    "\n",
    "import warnings\n",
    "warnings.filterwarnings('ignore')\n",
    "\n",
    "load_dotenv()\n",
    "\n",
    "if not os.getenv(\"OPENAI_API_KEY\"):\n",
    "    print(\"ERROR: OPENAI_API_KEY not found. Please check your .env file.\")\n",
    "\n"
   ]
  },
  {
   "cell_type": "markdown",
   "metadata": {},
   "source": [
    "## 2. Foundational Two-Agent Chat: The Coder and the Proxy\n",
    "\n",
    "Our first example is the most common AutoGen pattern: a two-agent system for code generation.\n",
    "\n",
    "-   **`AssistantAgent`**: This is the primary AI agent. It's an LLM-powered agent that can write text, and importantly, code.\n",
    "-   **`UserProxyAgent`**: This agent acts as a proxy for the human user. Its key capability is that it can **execute code** sent by the `AssistantAgent`. This creates a powerful loop: the user gives a task, the assistant writes code, the proxy runs the code and reports the result (success or error), and the assistant can then debug or continue based on that feedback."
   ]
  },
  {
   "cell_type": "code",
   "execution_count": 2,
   "metadata": {},
   "outputs": [
    {
     "name": "stdout",
     "output_type": "stream",
     "text": [
      "--- Initiating Two-Agent Coding Chat ---\n",
      "\u001b[33mUserProxy\u001b[0m (to Coder):\n",
      "\n",
      "What is the current date? Write the Python code to find out and print it.\n",
      "\n",
      "--------------------------------------------------------------------------------\n",
      "\u001b[33mCoder\u001b[0m (to UserProxy):\n",
      "\n",
      "To find out and print the current date using Python, we can use the `datetime` module. Here is the code that accomplishes that:\n",
      "\n",
      "```python\n",
      "from datetime import date\n",
      "\n",
      "# Get the current date\n",
      "current_date = date.today()\n",
      "\n",
      "# Print the current date\n",
      "print(\"The current date is:\", current_date)\n",
      "``` \n",
      "\n",
      "Please execute the code to see the result. TERMINATE\n",
      "\n",
      "--------------------------------------------------------------------------------\n",
      "\u001b[31m\n",
      ">>>>>>>> TERMINATING RUN (674a9901-104e-49db-9fc8-433ed13fb504): Termination message condition on agent 'UserProxy' met\u001b[0m\n"
     ]
    },
    {
     "data": {
      "text/plain": [
       "ChatResult(chat_id=None, chat_history=[{'content': 'What is the current date? Write the Python code to find out and print it.', 'role': 'assistant', 'name': 'UserProxy'}, {'content': 'To find out and print the current date using Python, we can use the `datetime` module. Here is the code that accomplishes that:\\n\\n```python\\nfrom datetime import date\\n\\n# Get the current date\\ncurrent_date = date.today()\\n\\n# Print the current date\\nprint(\"The current date is:\", current_date)\\n``` \\n\\nPlease execute the code to see the result. TERMINATE', 'role': 'user', 'name': 'Coder'}], summary='To find out and print the current date using Python, we can use the `datetime` module. Here is the code that accomplishes that:\\n\\n```python\\nfrom datetime import date\\n\\n# Get the current date\\ncurrent_date = date.today()\\n\\n# Print the current date\\nprint(\"The current date is:\", current_date)\\n``` \\n\\nPlease execute the code to see the result. ', cost={'usage_including_cached_inference': {'total_cost': 0.00199, 'gpt-4o-2024-08-06': {'cost': 0.00199, 'prompt_tokens': 484, 'completion_tokens': 78, 'total_tokens': 562}}, 'usage_excluding_cached_inference': {'total_cost': 0.00199, 'gpt-4o-2024-08-06': {'cost': 0.00199, 'prompt_tokens': 484, 'completion_tokens': 78, 'total_tokens': 562}}}, human_input=[])"
      ]
     },
     "execution_count": 2,
     "metadata": {},
     "output_type": "execute_result"
    }
   ],
   "source": [
    "import autogen \n",
    "\n",
    "# AutoGen requires a 'config_list' to define the LLM to use.\n",
    "config_list = [\n",
    "    {\n",
    "        'model': 'gpt-4o',\n",
    "        'api_key': os.getenv(\"OPENAI_API_KEY\"),\n",
    "    }\n",
    "]\n",
    "\n",
    "# The LLM configuration for the agents\n",
    "llm_config = {\"config_list\": config_list}\n",
    "\n",
    "# 1. The Coder Agent\n",
    "coder = autogen.AssistantAgent(\n",
    "    name=\"Coder\",\n",
    "    llm_config=llm_config,\n",
    ")\n",
    "\n",
    "# 2. The User Proxy Agent (with code execution)\n",
    "user_proxy = autogen.UserProxyAgent(\n",
    "    name=\"UserProxy\",\n",
    "    human_input_mode=\"NEVER\", # The conversation runs automatically\n",
    "    max_consecutive_auto_reply=8,\n",
    "    is_termination_msg=lambda x: x.get(\"content\", \"\").rstrip().endswith(\"TERMINATE\"),\n",
    "    code_execution_config={\n",
    "        \"work_dir\": \"autogen_work_dir\", # Directory to save and execute code\n",
    "        \"use_docker\": False,  # Set to True for safer execution if you have Docker\n",
    "    },\n",
    ")\n",
    "\n",
    "# 3. Initiate the conversation\n",
    "print(\"--- Initiating Two-Agent Coding Chat ---\")\n",
    "user_proxy.initiate_chat(\n",
    "    coder,\n",
    "    message=\"What is the current date? Write the Python code to find out and print it.\",\n",
    ")"
   ]
  },
  {
   "cell_type": "markdown",
   "metadata": {},
   "source": [
    "## 3. Advanced Agentic Capability: A Three-Agent Team with a Reviewer\n",
    "\n",
    "Now, let's build a more realistic software development workflow by adding a third agent: a `CodeReviewer`. This demonstrates AutoGen's `GroupChat` feature, where multiple agents can collaborate in a more complex conversation.\n",
    "\n",
    "The flow will be:\n",
    "1.  The `UserProxy` gives a task.\n",
    "2.  The `Coder` writes the code.\n",
    "3.  The `CodeReviewer` critiques the code.\n",
    "4.  The `Coder` revises the code based on the feedback.\n",
    "5.  The `UserProxy` executes the final, approved code."
   ]
  },
  {
   "cell_type": "code",
   "execution_count": 3,
   "metadata": {},
   "outputs": [
    {
     "name": "stdout",
     "output_type": "stream",
     "text": [
      "\n",
      "--- Initiating Three-Agent Group Chat with Reviewer ---\n",
      "\u001b[33mUserProxy\u001b[0m (to chat_manager):\n",
      "\n",
      "Write a Python function that takes a list of numbers and returns a new list containing only the even numbers. Then, call the function with an example and print the result.\n",
      "\n",
      "--------------------------------------------------------------------------------\n",
      "\u001b[32m\n",
      "Next speaker: Coder\n",
      "\u001b[0m\n",
      "\u001b[33mCoder\u001b[0m (to chat_manager):\n",
      "\n",
      "To accomplish this task, I will write a Python function named `filter_even_numbers` that will take a list of numbers as an argument and return a new list containing only the even numbers. After defining the function, I will call it with an example list and print the result.\n",
      "\n",
      "Here's the complete Python code to achieve this:\n",
      "\n",
      "```python\n",
      "def filter_even_numbers(numbers):\n",
      "    \"\"\"\n",
      "    Filters the even numbers from the given list.\n",
      "    \n",
      "    Args:\n",
      "        numbers (list): A list of integers.\n",
      "        \n",
      "    Returns:\n",
      "        list: A new list containing only the even numbers from the original list.\n",
      "    \"\"\"\n",
      "    return [num for num in numbers if num % 2 == 0]\n",
      "\n",
      "# Example usage\n",
      "example_numbers = [1, 2, 3, 4, 5, 6, 7, 8, 9, 10]\n",
      "even_numbers = filter_even_numbers(example_numbers)\n",
      "print(even_numbers)\n",
      "```\n",
      "\n",
      "When you run this code, it will print the new list containing only the even numbers from the `example_numbers` list. In this case, it should output `[2, 4, 6, 8, 10]`. \n",
      "\n",
      "Please execute this code, and it will perform the desired task. TERMINATE\n",
      "\n",
      "--------------------------------------------------------------------------------\n",
      "\u001b[32m\n",
      "Next speaker: UserProxy\n",
      "\u001b[0m\n",
      "\u001b[31m\n",
      ">>>>>>>> TERMINATING RUN (6d282ce9-4505-470d-a81e-98d29a64d72e): Termination message condition on agent 'UserProxy' met\u001b[0m\n",
      "\u001b[31m\n",
      ">>>>>>>> TERMINATING RUN (ee3a86c9-9145-466e-9bb9-cb82a1d042dd): No reply generated\u001b[0m\n"
     ]
    },
    {
     "data": {
      "text/plain": [
       "ChatResult(chat_id=None, chat_history=[{'content': 'Write a Python function that takes a list of numbers and returns a new list containing only the even numbers. Then, call the function with an example and print the result.', 'role': 'assistant', 'name': 'UserProxy'}, {'content': 'To accomplish this task, I will write a Python function named `filter_even_numbers` that will take a list of numbers as an argument and return a new list containing only the even numbers. After defining the function, I will call it with an example list and print the result.\\n\\nHere\\'s the complete Python code to achieve this:\\n\\n```python\\ndef filter_even_numbers(numbers):\\n    \"\"\"\\n    Filters the even numbers from the given list.\\n    \\n    Args:\\n        numbers (list): A list of integers.\\n        \\n    Returns:\\n        list: A new list containing only the even numbers from the original list.\\n    \"\"\"\\n    return [num for num in numbers if num % 2 == 0]\\n\\n# Example usage\\nexample_numbers = [1, 2, 3, 4, 5, 6, 7, 8, 9, 10]\\neven_numbers = filter_even_numbers(example_numbers)\\nprint(even_numbers)\\n```\\n\\nWhen you run this code, it will print the new list containing only the even numbers from the `example_numbers` list. In this case, it should output `[2, 4, 6, 8, 10]`. \\n\\nPlease execute this code, and it will perform the desired task. TERMINATE', 'name': 'Coder', 'role': 'user'}], summary='To accomplish this task, I will write a Python function named `filter_even_numbers` that will take a list of numbers as an argument and return a new list containing only the even numbers. After defining the function, I will call it with an example list and print the result.\\n\\nHere\\'s the complete Python code to achieve this:\\n\\n```python\\ndef filter_even_numbers(numbers):\\n    \"\"\"\\n    Filters the even numbers from the given list.\\n    \\n    Args:\\n        numbers (list): A list of integers.\\n        \\n    Returns:\\n        list: A new list containing only the even numbers from the original list.\\n    \"\"\"\\n    return [num for num in numbers if num % 2 == 0]\\n\\n# Example usage\\nexample_numbers = [1, 2, 3, 4, 5, 6, 7, 8, 9, 10]\\neven_numbers = filter_even_numbers(example_numbers)\\nprint(even_numbers)\\n```\\n\\nWhen you run this code, it will print the new list containing only the even numbers from the `example_numbers` list. In this case, it should output `[2, 4, 6, 8, 10]`. \\n\\nPlease execute this code, and it will perform the desired task. ', cost={'usage_including_cached_inference': {'total_cost': 0}, 'usage_excluding_cached_inference': {'total_cost': 0}}, human_input=[])"
      ]
     },
     "execution_count": 3,
     "metadata": {},
     "output_type": "execute_result"
    }
   ],
   "source": [
    "# We can reuse the UserProxy and Coder from the previous example\n",
    "\n",
    "# 1. Create the Code Reviewer Agent\n",
    "reviewer = autogen.AssistantAgent(\n",
    "    name=\"CodeReviewer\",\n",
    "    system_message=\"You are a senior software engineer. Your role is to review code for quality, correctness, and best practices. You must provide constructive feedback. If the code is perfect, you must reply with the word 'APPROVED'.\",\n",
    "    llm_config=llm_config,\n",
    ")\n",
    "\n",
    "# 2. Set up the Group Chat\n",
    "groupchat = autogen.GroupChat(\n",
    "    agents=[user_proxy, coder, reviewer],\n",
    "    messages=[],\n",
    "    max_round=12\n",
    ")\n",
    "\n",
    "manager = autogen.GroupChatManager(groupchat=groupchat, llm_config=llm_config)\n",
    "\n",
    "# 3. Initiate the group chat\n",
    "print(\"\\n--- Initiating Three-Agent Group Chat with Reviewer ---\")\n",
    "user_proxy.initiate_chat(\n",
    "    manager,\n",
    "    message=\"Write a Python function that takes a list of numbers and returns a new list containing only the even numbers. Then, call the function with an example and print the result.\",\n",
    ")"
   ]
  },
  {
   "cell_type": "markdown",
   "metadata": {},
   "source": [
    "## Lab Conclusion\n",
    "\n",
    "This lab has introduced you to the core concepts of Microsoft AutoGen. You have built both a simple two-agent system and a more complex three-agent group chat, demonstrating how AutoGen facilitates collaborative problem-solving through conversation.\n",
    "\n",
    "**Key Takeaways:**\n",
    "- AutoGen excels at creating conversational agents that can collaborate.\n",
    "- The `UserProxyAgent` is a powerful construct that can act on behalf of the user, including executing code.\n",
    "- `GroupChat` allows you to orchestrate complex workflows with multiple specialized agents, mimicking a real-world development team.\n",
    "- The system messages for each agent are crucial for defining their roles and behaviors within the conversation."
   ]
  }
 ],
 "metadata": {
  "kernelspec": {
   "display_name": ".venv",
   "language": "python",
   "name": "python3"
  },
  "language_info": {
   "codemirror_mode": {
    "name": "ipython",
    "version": 3
   },
   "file_extension": ".py",
   "mimetype": "text/x-python",
   "name": "python",
   "nbconvert_exporter": "python",
   "pygments_lexer": "ipython3",
   "version": "3.11.13"
  }
 },
 "nbformat": 4,
 "nbformat_minor": 4
}
