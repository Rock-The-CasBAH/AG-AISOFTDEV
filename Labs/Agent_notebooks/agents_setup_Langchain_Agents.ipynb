{
 "cells": [
  {
   "cell_type": "markdown",
   "metadata": {},
   "source": [
    "# LangChain Agents: A Deep Dive\n",
    "\n",
    "**Objective:** This notebook provides a detailed walkthrough of building powerful, single agents using LangChain. While the course's Day 5 lab introduced the basics, this session focuses on the internal mechanics, advanced tool creation, and state management to give you a deeper understanding of how to build and debug robust LangChain agents.\n",
    "\n",
    "**Target Audience:** Software engineers attending the AI-Driven Software Engineering Program.\n",
    "\n",
    "**Core Concepts Covered:**\n",
    "1.  **Review of Agent Fundamentals:** A quick recap of the `AgentExecutor` and the ReAct (Reason+Act) loop.\n",
    "2.  **Custom Tools in Detail:** Mastering the `@tool` decorator and understanding why a good docstring is the most critical part of a tool.\n",
    "3.  **Agent State & Memory:** Giving your agent conversational memory to handle multi-turn interactions.\n",
    "4.  **Debugging Agent Behavior:** Using `verbose=True` to interpret the agent's thought process and fix issues."
   ]
  },
  {
   "cell_type": "markdown",
   "metadata": {},
   "source": [
    "## 1. Setup\n",
    "\n",
    "First, we'll install the necessary libraries and set up our environment by loading the required API keys."
   ]
  },
  {
   "cell_type": "code",
   "execution_count": 1,
   "metadata": {},
   "outputs": [],
   "source": [
    "import os\n",
    "from dotenv import load_dotenv\n",
    "\n",
    "load_dotenv()\n",
    "\n",
    "if not os.getenv(\"OPENAI_API_KEY\") or not os.getenv(\"TAVILY_API_KEY\"):\n",
    "    print(\"ERROR: API keys not found. Please check your .env file.\")"
   ]
  },
  {
   "cell_type": "markdown",
   "metadata": {},
   "source": [
    "## 2. Review of Agent Fundamentals\n",
    "\n",
    "Let's quickly recap the core components of a LangChain agent from the Day 5 lab. An agent consists of:\n",
    "\n",
    "- **LLM:** The language model that acts as the agent's \"brain.\"\n",
    "- **Tools:** Functions the agent can call to interact with the outside world (e.g., search, calculators, file readers).\n",
    "- **Prompt Template:** A template that structures the input to the LLM, telling it its persona, the tools it has, and the user's request. It critically includes an `agent_scratchpad` for the ReAct loop.\n",
    "- **Agent Executor:** The runtime environment that orchestrates the **Thought -> Action -> Observation** loop."
   ]
  },
  {
   "cell_type": "code",
   "execution_count": 2,
   "metadata": {},
   "outputs": [
    {
     "name": "stderr",
     "output_type": "stream",
     "text": [
      "/var/folders/gk/hk1464k11yg67s5xbrchbgsm0000gn/T/ipykernel_50407/2693923107.py:7: LangChainDeprecationWarning: The class `TavilySearchResults` was deprecated in LangChain 0.3.25 and will be removed in 1.0. An updated version of the class exists in the :class:`~langchain-tavily package and should be used instead. To use it run `pip install -U :class:`~langchain-tavily` and import as `from :class:`~langchain_tavily import TavilySearch``.\n",
      "  tools = [TavilySearchResults(max_results=1)]\n",
      "/Users/agaleana/repos/AG-AISOFTDEV/.venv/lib/python3.11/site-packages/langsmith/client.py:288: LangSmithMissingAPIKeyWarning: API key must be provided when using hosted LangSmith API\n",
      "  warnings.warn(\n"
     ]
    },
    {
     "name": "stdout",
     "output_type": "stream",
     "text": [
      "--- Recap: Agent with Web Search ---\n",
      "\n",
      "\n",
      "\u001b[1m> Entering new AgentExecutor chain...\u001b[0m\n",
      "\u001b[32;1m\u001b[1;3m\n",
      "Invoking: `tavily_search_results_json` with `{'query': 'current market cap of Apple Inc.'}`\n",
      "\n",
      "\n",
      "\u001b[0m\u001b[36;1m\u001b[1;3m[{'title': 'Apple (AAPL) - Market capitalization - Companies Market Cap', 'url': 'https://companiesmarketcap.com/apple/marketcap/', 'content': \"As of August 2025 Apple has a market cap of $3.413 Trillion USD. This makes Apple the world's 3rd most valuable company by market cap according to our data. The market capitalization, commonly called market cap, is the total market value of a publicly traded company's outstanding shares and is commonly used to measure how much a company is worth.\\n\\n## Market cap history of Apple from 1996 to 2025\\n\\n### End of year Market Cap [...] ##### America\\n\\n##### Europe\\n\\n##### Asia\\n\\n##### Others\\n\\nfavorite icon\\nfavorite icon\\nfavorite icon\\nfavorite icon\\nApple Logo\\nfavorite icon\\n\\nApple Inc. is an American hardware and software developer and technology company that develops and sells computers, smartphones and consumer electronics as well as operating systems and application software. Apple also operates internet sales portals for music, films and software.\\n\\n# Market capitalization of Apple (AAPL)\\n\\n## Market cap: $3.413 Trillion USD [...] | Year | Marketcap | Change |\\n --- \\n| 2025 | $3.413 T | -11.64% |\\n| 2024 | $3.863 T | 29.02% |\\n| 2023 | $2.994 T | 44.87% |\\n| 2022 | $2.066 T | -28.77% |\\n| 2021 | $2.901 T | 28.62% |\\n| 2020 | $2.255 T | 75.2% |\\n| 2019 | $1.287 T | 72.59% |\\n| 2018 | $746.07 B | -13.34% |\\n| 2017 | $860.88 B | 41.37% |\\n| 2016 | $608.96 B | 4.34% |\\n| 2015 | $583.61 B | -9.25% |\\n| 2014 | $643.12 B | 28.43% |\\n| 2013 | $500.74 B | 0.21% |\\n| 2012 | $499.69 B | 32.36% |\\n| 2011 | $377.51 B | 27.07% |\", 'score': 0.8783249}]\u001b[0m\u001b[32;1m\u001b[1;3mAs of August 2025, Apple Inc. has a market cap of $3.413 trillion USD, making it the world's 3rd most valuable company by market cap.\u001b[0m\n",
      "\n",
      "\u001b[1m> Finished chain.\u001b[0m\n"
     ]
    },
    {
     "data": {
      "text/plain": [
       "{'input': 'What is the current market cap of Apple Inc.?',\n",
       " 'output': \"As of August 2025, Apple Inc. has a market cap of $3.413 trillion USD, making it the world's 3rd most valuable company by market cap.\"}"
      ]
     },
     "execution_count": 2,
     "metadata": {},
     "output_type": "execute_result"
    }
   ],
   "source": [
    "from langchain_openai import ChatOpenAI\n",
    "from langchain_community.tools.tavily_search import TavilySearchResults\n",
    "from langchain import hub\n",
    "from langchain.agents import create_tool_calling_agent, AgentExecutor\n",
    "\n",
    "llm = ChatOpenAI(model=\"gpt-4o\")\n",
    "tools = [TavilySearchResults(max_results=1)]\n",
    "prompt = hub.pull(\"hwchase17/openai-functions-agent\")\n",
    "agent = create_tool_calling_agent(llm, tools, prompt)\n",
    "agent_executor = AgentExecutor(agent=agent, tools=tools, verbose=True)\n",
    "\n",
    "print(\"--- Recap: Agent with Web Search ---\")\n",
    "agent_executor.invoke({\"input\": \"What is the current market cap of Apple Inc.?\"})"
   ]
  },
  {
   "cell_type": "markdown",
   "metadata": {},
   "source": [
    "## 3. Custom Tools in Detail\n",
    "\n",
    "The real power of LangChain agents comes from giving them custom tools to interact with your specific data or APIs. The `@tool` decorator is the easiest way to do this.\n",
    "\n",
    "**The Golden Rule of Tools:** The agent **does not see your Python code**. It only sees the function name, its arguments (and their type hints), and the **docstring**. A clear, descriptive docstring is the most important piece of prompt engineering you can do for an agent."
   ]
  },
  {
   "cell_type": "code",
   "execution_count": 3,
   "metadata": {},
   "outputs": [
    {
     "name": "stdout",
     "output_type": "stream",
     "text": [
      "--- Testing the Calculator Tool ---\n",
      "\n",
      "\n",
      "\u001b[1m> Entering new AgentExecutor chain...\u001b[0m\n",
      "\u001b[32;1m\u001b[1;3m\n",
      "Invoking: `simple_calculator` with `{'expression': '125*8'}`\n",
      "\n",
      "\n",
      "\u001b[0m\u001b[36;1m\u001b[1;3m1000\u001b[0m\u001b[32;1m\u001b[1;3m125 multiplied by 8 is 1000.\u001b[0m\n",
      "\n",
      "\u001b[1m> Finished chain.\u001b[0m\n",
      "\n",
      "--- Testing the File Reader Tool ---\n",
      "\n",
      "\n",
      "\u001b[1m> Entering new AgentExecutor chain...\u001b[0m\n",
      "\u001b[32;1m\u001b[1;3m\n",
      "Invoking: `read_file_content` with `{'filename': 'project_status.txt'}`\n",
      "\n",
      "\n",
      "\u001b[0m\u001b[33;1m\u001b[1;3mThe project is on track. The next milestone is the agent evaluation phase.\u001b[0m\u001b[32;1m\u001b[1;3mThe status of the project is that it is on track, and the next milestone is the agent evaluation phase.\u001b[0m\n",
      "\n",
      "\u001b[1m> Finished chain.\u001b[0m\n"
     ]
    },
    {
     "data": {
      "text/plain": [
       "{'input': \"What is the status of the project based on the 'project_status.txt' file?\",\n",
       " 'output': 'The status of the project is that it is on track, and the next milestone is the agent evaluation phase.'}"
      ]
     },
     "execution_count": 3,
     "metadata": {},
     "output_type": "execute_result"
    }
   ],
   "source": [
    "from langchain.tools import tool\n",
    "import json\n",
    "\n",
    "# A simple custom tool\n",
    "@tool\n",
    "def simple_calculator(expression: str) -> str:\n",
    "    \"\"\"Calculates the result of a simple mathematical expression (e.g., '2+2', '10*5').\"\"\"\n",
    "    try:\n",
    "        return str(eval(expression))\n",
    "    except Exception as e:\n",
    "        return f\"Error: {e}\"\n",
    "\n",
    "# A tool that interacts with the local file system\n",
    "# In a real app, ensure this is secure and sandboxed!\n",
    "@tool\n",
    "def read_file_content(filename: str) -> str:\n",
    "    \"\"\"Reads the content of a specified file. Use this to get information from local files.\"\"\"\n",
    "    try:\n",
    "        with open(filename, 'r') as f:\n",
    "            return f.read()\n",
    "    except FileNotFoundError:\n",
    "        return f\"Error: File '{filename}' not found.\"\n",
    "\n",
    "# Create a new agent with multiple custom tools\n",
    "custom_tools = [simple_calculator, read_file_content]\n",
    "custom_agent = create_tool_calling_agent(llm, custom_tools, prompt)\n",
    "custom_executor = AgentExecutor(agent=custom_agent, tools=custom_tools, verbose=True)\n",
    "\n",
    "print(\"--- Testing the Calculator Tool ---\")\n",
    "custom_executor.invoke({\"input\": \"What is 125 multiplied by 8?\"})\n",
    "\n",
    "# Let's create a dummy file for the next test\n",
    "with open(\"project_status.txt\", \"w\") as f:\n",
    "    f.write(\"The project is on track. The next milestone is the agent evaluation phase.\")\n",
    "\n",
    "print(\"\\n--- Testing the File Reader Tool ---\")\n",
    "custom_executor.invoke({\"input\": \"What is the status of the project based on the 'project_status.txt' file?\"})"
   ]
  },
  {
   "cell_type": "markdown",
   "metadata": {},
   "source": [
    "## 4. Agent State & Memory\n",
    "\n",
    "By default, the `AgentExecutor` is stateless. Each call is independent. To have a conversation, we need to add a memory component. The easiest way is to include placeholders for chat history in the prompt and manage the history manually.\n",
    "\n",
    "LangChain's Expression Language (LCEL) makes this more manageable."
   ]
  },
  {
   "cell_type": "code",
   "execution_count": 4,
   "metadata": {},
   "outputs": [
    {
     "name": "stdout",
     "output_type": "stream",
     "text": [
      "--- Conversation Turn 1 ---\n",
      "\n",
      "\n",
      "\u001b[1m> Entering new AgentExecutor chain...\u001b[0m\n",
      "\u001b[32;1m\u001b[1;3m\n",
      "Invoking: `simple_calculator` with `{'expression': '500-120'}`\n",
      "\n",
      "\n",
      "\u001b[0m\u001b[36;1m\u001b[1;3m380\u001b[0m\u001b[32;1m\u001b[1;3mYou have 380 left after spending 120 on a book from your budget of 500.\u001b[0m\n",
      "\n",
      "\u001b[1m> Finished chain.\u001b[0m\n",
      "\n",
      "AI: You have 380 left after spending 120 on a book from your budget of 500.\n",
      "\n",
      "--- Conversation Turn 2 (with memory) ---\n",
      "\n",
      "\n",
      "\u001b[1m> Entering new AgentExecutor chain...\u001b[0m\n",
      "\u001b[32;1m\u001b[1;3m\n",
      "Invoking: `simple_calculator` with `{'expression': '380-55'}`\n",
      "\n",
      "\n",
      "\u001b[0m\u001b[36;1m\u001b[1;3m325\u001b[0m\u001b[32;1m\u001b[1;3mIf you spend another 55, you will have 325 remaining.\u001b[0m\n",
      "\n",
      "\u001b[1m> Finished chain.\u001b[0m\n",
      "\n",
      "AI: If you spend another 55, you will have 325 remaining.\n"
     ]
    }
   ],
   "source": [
    "from langchain_core.prompts import ChatPromptTemplate, MessagesPlaceholder\n",
    "from langchain_core.messages import AIMessage, HumanMessage\n",
    "\n",
    "# 1. Create a new prompt that includes a placeholder for chat history\n",
    "memory_prompt = ChatPromptTemplate.from_messages([\n",
    "    (\"system\", \"You are a helpful assistant. You have access to a calculator.\"),\n",
    "    MessagesPlaceholder(variable_name=\"chat_history\"),\n",
    "    (\"user\", \"{input}\"),\n",
    "    MessagesPlaceholder(variable_name=\"agent_scratchpad\"),\n",
    "])\n",
    "\n",
    "# 2. Create the agent with the new prompt\n",
    "memory_tools = [simple_calculator]\n",
    "memory_agent = create_tool_calling_agent(llm, memory_tools, memory_prompt)\n",
    "memory_executor = AgentExecutor(agent=memory_agent, tools=memory_tools, verbose=True)\n",
    "\n",
    "# 3. Manage the chat history manually\n",
    "chat_history = []\n",
    "\n",
    "print(\"--- Conversation Turn 1 ---\")\n",
    "input1 = \"My budget is 500. I spent 120 on a book. How much is left?\"\n",
    "result1 = memory_executor.invoke({\"input\": input1, \"chat_history\": chat_history})\n",
    "chat_history.extend([\n",
    "    HumanMessage(content=input1),\n",
    "    AIMessage(content=result1[\"output\"]),\n",
    "])\n",
    "print(f\"\\nAI: {result1['output']}\")\n",
    "\n",
    "print(\"\\n--- Conversation Turn 2 (with memory) ---\")\n",
    "input2 = \"If I spend another 55, what is the remaining amount?\"\n",
    "result2 = memory_executor.invoke({\"input\": input2, \"chat_history\": chat_history})\n",
    "print(f\"\\nAI: {result2['output']}\")"
   ]
  },
  {
   "cell_type": "markdown",
   "metadata": {},
   "source": [
    "## 5. Debugging Agent Behavior\n",
    "\n",
    "The most important tool for debugging an agent is `verbose=True` in the `AgentExecutor`. This prints out the agent's internal monologue, showing you the **Thought -> Action -> Observation** loop in real-time.\n",
    "\n",
    "When an agent fails, look at the verbose output:\n",
    "-   **Thought:** What was the agent thinking? Did it misunderstand the goal?\n",
    "-   **Action:** Which tool did it choose? Were the parameters correct? If it didn't choose a tool when it should have, the tool's docstring might be unclear.\n",
    "-   **Observation:** What was the output of the tool? Was it an error? Was the format unexpected?\n",
    "\n",
    "Most agent failures can be traced back to a poorly worded prompt or an unclear tool docstring."
   ]
  },
  {
   "cell_type": "markdown",
   "metadata": {},
   "source": [
    "## Lab Conclusion\n",
    "\n",
    "In this deep dive, you've reinforced your understanding of LangChain agents. You've seen how to create powerful, specialized agents by giving them custom tools and how to add memory for conversational context. Most importantly, you've learned how to debug agentic behavior by analyzing the ReAct loop.\n",
    "\n",
    "**Key Takeaways:**\n",
    "- An agent's capabilities are defined by its tools.\n",
    "- A tool's docstring is its most important feature.\n",
    "- Conversational memory requires explicitly managing and passing chat history.\n",
    "- `verbose=True` is your best friend for debugging."
   ]
  }
 ],
 "metadata": {
  "kernelspec": {
   "display_name": ".venv",
   "language": "python",
   "name": "python3"
  },
  "language_info": {
   "codemirror_mode": {
    "name": "ipython",
    "version": 3
   },
   "file_extension": ".py",
   "mimetype": "text/x-python",
   "name": "python",
   "nbconvert_exporter": "python",
   "pygments_lexer": "ipython3",
   "version": "3.11.13"
  }
 },
 "nbformat": 4,
 "nbformat_minor": 4
}
