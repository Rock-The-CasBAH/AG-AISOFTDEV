{
 "cells": [
  {
   "cell_type": "markdown",
   "metadata": {},
   "source": [
    "# Day 3 - Lab 2: Refactoring & Documentation\n",
    "\n",
    "**Objective:** Use an LLM to refactor a complex Python function to improve its readability and maintainability, and then generate comprehensive, high-quality documentation for the project.\n",
    "\n",
    "**Estimated Time:** 60 minutes\n",
    "\n",
    "**Introduction:**\n",
    "Writing code is only the first step; writing *good* code is what makes a project successful in the long run. In this lab, you will use an LLM as a code quality expert. You will refactor a poorly written function to make it cleaner and then generate professional-grade documentation, including docstrings and a README file. These are high-value tasks that AI can significantly accelerate.\n",
    "\n",
    "For definitions of key terms used in this lab, please refer to the [GLOSSARY.md](../../GLOSSARY.md)."
   ]
  },
  {
   "cell_type": "markdown",
   "metadata": {},
   "source": [
    "## Step 1: Setup\n",
    "\n",
    "We will set up our environment and define a sample of poorly written code that we will use as the target for our refactoring and documentation efforts.\n",
    "\n",
    "**Model Selection:**\n",
    "Models with strong coding and reasoning abilities are best for this task. `gpt-4.1`, `o3`, or `codex-mini` are great choices. You can also try more general models like `gemini-2.5-pro`.\n",
    "\n",
    "**Helper Functions Used:**\n",
    "- `setup_llm_client()`: To configure the API client.\n",
    "- `get_completion()`: To send prompts to the LLM.\n",
    "- `save_artifact()`: To save the generated README file.\n",
    "- `clean_llm_output()`: To clean up the generated code and documentation."
   ]
  },
  {
   "cell_type": "code",
   "execution_count": 1,
   "metadata": {},
   "outputs": [
    {
     "name": "stdout",
     "output_type": "stream",
     "text": [
      "✅ LLM Client configured: Using 'openai' with model 'gpt-4o'\n"
     ]
    }
   ],
   "source": [
    "import sys\n",
    "import os\n",
    "\n",
    "# Add the project's root directory to the Python path to ensure 'utils' can be imported.\n",
    "try:\n",
    "    project_root = os.path.abspath(os.path.join(os.getcwd(), '..', '..'))\n",
    "except IndexError:\n",
    "    project_root = os.path.abspath(os.path.join(os.getcwd()))\n",
    "\n",
    "if project_root not in sys.path:\n",
    "    sys.path.insert(0, project_root)\n",
    "\n",
    "from utils import setup_llm_client, get_completion, save_artifact, load_artifact, clean_llm_output\n",
    "\n",
    "client, model_name, api_provider = setup_llm_client(model_name=\"gpt-4o\")"
   ]
  },
  {
   "cell_type": "markdown",
   "metadata": {},
   "source": [
    "## Step 2: The Code to Improve\n",
    "\n",
    "Here is a sample Python function that is functional but poorly written. It's hard to read, has no comments or type hints, and mixes multiple responsibilities. This is the code we will improve."
   ]
  },
  {
   "cell_type": "code",
   "execution_count": 2,
   "metadata": {},
   "outputs": [],
   "source": [
    "bad_code = \"\"\"\n",
    "def process_data(data, operation):\n",
    "    if operation == 'sum':\n",
    "        total = 0\n",
    "        for i in data:\n",
    "            total += i\n",
    "        return total\n",
    "    elif operation == 'average':\n",
    "        total = 0\n",
    "        for i in data:\n",
    "            total += i\n",
    "        return total / len(data)\n",
    "    elif operation == 'max':\n",
    "        max_val = data[0]\n",
    "        for i in data:\n",
    "            if i > max_val:\n",
    "                max_val = i\n",
    "        return max_val\n",
    "\"\"\""
   ]
  },
  {
   "cell_type": "markdown",
   "metadata": {},
   "source": [
    "## Step 3: The Challenges"
   ]
  },
  {
   "cell_type": "markdown",
   "metadata": {},
   "source": [
    "### Challenge 1 (Foundational): Refactoring the Code\n",
    "\n",
    "**Task:** Use the LLM to refactor the `bad_code` to be more readable, efficient, and maintainable.\n",
    "\n",
    "**Instructions:**\n",
    "1.  Create a prompt that instructs the LLM to act as a senior Python developer.\n",
    "2.  Provide the `bad_code` as context.\n",
    "3.  Ask the LLM to refactor the code. Be specific about the improvements you want, such as:\n",
    "    * Breaking the single function into multiple, smaller functions.\n",
    "    * Using built-in Python functions where appropriate (e.g., `sum()`, `max()`).\n",
    "    * Adding clear type hints and return types.\n",
    "\n",
    "> **Tip:** When you ask the AI to refactor, give it a principle to follow. For example, ask it to apply the 'Single Responsibility Principle,' which means each function should do only one thing. This guides the AI to create cleaner, more modular code.\n",
    "\n",
    "**Expected Quality:** A block of Python code that is functionally identical to the original but is significantly cleaner, more modular, and easier to understand."
   ]
  },
  {
   "cell_type": "code",
   "execution_count": 5,
   "metadata": {},
   "outputs": [
    {
     "name": "stdout",
     "output_type": "stream",
     "text": [
      "--- Refactoring Code ---\n",
      "from typing import List, Union\n",
      "\n",
      "def sum_data(data: List[Union[int, float]]) -> Union[int, float]:\n",
      "    return sum(data)\n",
      "\n",
      "def average_data(data: List[Union[int, float]]) -> float:\n",
      "    return sum(data) / len(data)\n",
      "\n",
      "def max_data(data: List[Union[int, float]]) -> Union[int, float]:\n",
      "    return max(data)\n",
      "\n",
      "def process_data(data: List[Union[int, float]], operation: str) -> Union[int, float]:\n",
      "    operations = {\n",
      "        'sum': sum_data,\n",
      "        'average': average_data,\n",
      "        'max': max_data\n",
      "    }\n",
      "    \n",
      "    if operation in operations:\n",
      "        return operations[operation](data)\n",
      "    else:\n",
      "        raise ValueError(f\"Unsupported operation: {operation}\")\n",
      "--- Refactoring Code ---\n",
      "from typing import List, Union\n",
      "\n",
      "def calculate_sum(data: List[Union[int, float]]) -> Union[int, float]:\n",
      "    return sum(data)\n",
      "\n",
      "def calculate_average(data: List[Union[int, float]]) -> float:\n",
      "    return sum(data) / len(data)\n",
      "\n",
      "def find_max(data: List[Union[int, float]]) -> Union[int, float]:\n",
      "    return max(data)\n",
      "\n",
      "def process_data(data: List[Union[int, float]], operation: str) -> Union[int, float]:\n",
      "    operations = {\n",
      "        'sum': calculate_sum,\n",
      "        'average': calculate_average,\n",
      "        'max': find_max\n",
      "    }\n",
      "    if operation in operations:\n",
      "        return operations[operation](data)\n",
      "    raise ValueError(f\"Unsupported operation: {operation}\")\n"
     ]
    }
   ],
   "source": [
    "# TODO: Write a prompt to refactor the 'bad_code'.\n",
    "refactor_prompt = f\"\"\"\n",
    "You are a senior Python developer who writes clean, efficient, and maintainable code.\n",
    "\n",
    "Please refactor the following Python code. Apply the 'Single Responsibility Principle' by breaking the main function into smaller, more focused functions. Also, use modern Python features like built-in functions and add type hints.\n",
    "\n",
    "**Code to Refactor:**\n",
    "```python\n",
    "{bad_code}\n",
    "```\n",
    "\n",
    "Output only the refactored Python code.\n",
    "\"\"\"\n",
    "\n",
    "print(\"--- Refactoring Code ---\")\n",
    "refactored_code = get_completion(refactor_prompt, client, model_name, api_provider)\n",
    "cleaned_code = clean_llm_output(refactored_code, language='python')\n",
    "print(cleaned_code)\n",
    "\n",
    "print(\"--- Refactoring Code ---\")\n",
    "refactored_code = get_completion(refactor_prompt, client, model_name, api_provider)\n",
    "cleaned_code = clean_llm_output(refactored_code, language='python')\n",
    "print(cleaned_code)"
   ]
  },
  {
   "cell_type": "markdown",
   "metadata": {},
   "source": [
    "### Challenge 2 (Intermediate): Generating Docstrings\n",
    "\n",
    "**Task:** Prompt the LLM to generate high-quality docstrings for the newly refactored code.\n",
    "\n",
    "**Instructions:**\n",
    "1.  Create a new prompt.\n",
    "2.  Provide the `refactored_code` from the previous step as context.\n",
    "3.  Instruct the LLM to generate Google-style Python docstrings for each function.\n",
    "4.  The docstrings should include a description of the function, its arguments (`Args:`), and what it returns (`Returns:`).\n",
    "\n",
    "**Expected Quality:** The refactored Python code, now with complete and professional-looking docstrings for each function."
   ]
  },
  {
   "cell_type": "code",
   "execution_count": 6,
   "metadata": {},
   "outputs": [
    {
     "name": "stdout",
     "output_type": "stream",
     "text": [
      "--- Generating Docstrings ---\n",
      "from typing import List, Union\n",
      "\n",
      "def calculate_sum(data: List[Union[int, float]]) -> Union[int, float]:\n",
      "    \"\"\"Calculates the sum of a list of numbers.\n",
      "\n",
      "    Args:\n",
      "        data (List[Union[int, float]]): A list of integers and/or floats.\n",
      "\n",
      "    Returns:\n",
      "        Union[int, float]: The sum of the numbers in the list.\n",
      "    \"\"\"\n",
      "    return sum(data)\n",
      "\n",
      "def calculate_average(data: List[Union[int, float]]) -> float:\n",
      "    \"\"\"Calculates the average of a list of numbers.\n",
      "\n",
      "    Args:\n",
      "        data (List[Union[int, float]]): A list of integers and/or floats.\n",
      "\n",
      "    Returns:\n",
      "        float: The average of the numbers in the list.\n",
      "    \"\"\"\n",
      "    return sum(data) / len(data)\n",
      "\n",
      "def find_max(data: List[Union[int, float]]) -> Union[int, float]:\n",
      "    \"\"\"Finds the maximum value in a list of numbers.\n",
      "\n",
      "    Args:\n",
      "        data (List[Union[int, float]]): A list of integers and/or floats.\n",
      "\n",
      "    Returns:\n",
      "        Union[int, float]: The maximum value in the list.\n",
      "    \"\"\"\n",
      "    return max(data)\n",
      "\n",
      "def process_data(data: List[Union[int, float]], operation: str) -> Union[int, float]:\n",
      "    \"\"\"Processes a list of numbers using a specified operation.\n",
      "\n",
      "    Args:\n",
      "        data (List[Union[int, float]]): A list of integers and/or floats.\n",
      "        operation (str): The operation to perform, can be 'sum', 'average', or 'max'.\n",
      "\n",
      "    Returns:\n",
      "        Union[int, float]: The result of the specified operation on the list of numbers.\n",
      "\n",
      "    Raises:\n",
      "        ValueError: If the specified operation is not supported.\n",
      "    \"\"\"\n",
      "    operations = {\n",
      "        'sum': calculate_sum,\n",
      "        'average': calculate_average,\n",
      "        'max': find_max\n",
      "    }\n",
      "    if operation in operations:\n",
      "        return operations[operation](data)\n",
      "    raise ValueError(f\"Unsupported operation: {operation}\")\n"
     ]
    }
   ],
   "source": [
    "# TODO: Write a prompt to add Google-style docstrings to the refactored code.\n",
    "docstring_prompt = f\"\"\"\n",
    "You are a Python developer who writes excellent documentation.\n",
    "\n",
    "Add Google-style docstrings to the following Python code. Each docstring should include a description of the function, its arguments (Args:), and what it returns (Returns:).\n",
    "\n",
    "**Python Code:**\n",
    "```python\n",
    "{cleaned_code}\n",
    "```\n",
    "\n",
    "Output the complete Python code with the added docstrings.\n",
    "\"\"\"\n",
    "\n",
    "print(\"--- Generating Docstrings ---\")\n",
    "code_with_docstrings = get_completion(docstring_prompt, client, model_name, api_provider)\n",
    "cleaned_code_with_docstrings = clean_llm_output(code_with_docstrings, language='python')\n",
    "print(cleaned_code_with_docstrings)\n"
   ]
  },
  {
   "cell_type": "markdown",
   "metadata": {},
   "source": [
    "### Challenge 3 (Advanced): Generating a Project README\n",
    "\n",
    "**Task:** Generate a comprehensive `README.md` file for the entire Onboarding Tool project.\n",
    "\n",
    "**Instructions:**\n",
    "1.  Create a final prompt that instructs the LLM to act as a technical writer.\n",
    "2.  This time, you will provide multiple pieces of context: the `day1_prd.md` and the `app/main.py` source code. (You will need to load these files).\n",
    "3.  Ask the LLM to generate a `README.md` file with the following sections:\n",
    "    * Project Title\n",
    "    * Overview (based on the PRD)\n",
    "    * Features\n",
    "    * API Endpoints (with `curl` examples)\n",
    "    * Setup and Installation instructions.\n",
    "4.  Save the final output to `README.md` in the project's root directory.\n",
    "\n",
    "**Expected Quality:** A complete, professional `README.md` file that provides a comprehensive overview of the project for other developers."
   ]
  },
  {
   "cell_type": "code",
   "execution_count": 12,
   "metadata": {},
   "outputs": [
    {
     "name": "stdout",
     "output_type": "stream",
     "text": [
      "--- Generating Project README ---\n",
      "# New Hire Onboarding Tool\n",
      "\n",
      "## Overview\n",
      "\n",
      "The New Hire Onboarding Tool is designed to streamline and enhance the onboarding experience for new employees, HR managers, and department managers. By addressing the current fragmented onboarding process, this tool provides a centralized platform that supports personalized learning paths, progress tracking, compliance management, and more. The ultimate vision is to create an efficient, engaging, and effective onboarding process that accelerates new hires' integration into the company.\n",
      "\n",
      "## Features\n",
      "\n",
      "- **Personalized Learning Paths**: Tailored onboarding experiences based on the role of each new hire.\n",
      "- **Progress Tracking Dashboard**: Real-time tracking of onboarding tasks for new hires, HR managers, and department managers.\n",
      "- **Compliance Module**: Ensures all new hires complete necessary compliance training.\n",
      "- **User Management**: Supports roles like New Hire, HR Manager, and Department Manager with specific onboarding features.\n",
      "\n",
      "## API Endpoints\n",
      "\n",
      "### Create a New User\n",
      "\n",
      "- **POST** `/users/`\n",
      "- Create a new user with a unique email and role.\n",
      "✅ Successfully saved artifact to: artifacts\\README.md\n"
     ]
    }
   ],
   "source": [
    "# Load the necessary context files\n",
    "prd_content = load_artifact(\"artifacts/day1_prd.md\")\n",
    "api_code = load_artifact(\"app/main.py\")\n",
    "\n",
    "# TODO: Write a prompt to generate a complete README.md file.\n",
    "readme_prompt = f\"\"\"\n",
    "You are a technical writer creating a README.md file for a new open-source project.\n",
    "\n",
    "Use the provided Product Requirements Document (PRD) for high-level context and the FastAPI source code for technical details.\n",
    "\n",
    "**PRD Context:**\n",
    "<prd>\n",
    "{prd_content}\n",
    "</prd>\n",
    "\n",
    "**API Source Code:**\n",
    "<code>\n",
    "{api_code}\n",
    "</code>\n",
    "\n",
    "Generate a complete README.md file with the following sections:\n",
    "- Project Title\n",
    "- Overview (Summarize the project's purpose from the PRD)\n",
    "- Features\n",
    "- API Endpoints (List the available endpoints and provide a `curl` example for each one, including the POST request with a JSON body)\n",
    "- Setup and Installation (Provide basic instructions on how to run the FastAPI app with uvicorn)\n",
    "\"\"\"\n",
    "\n",
    "print(\"--- Generating Project README ---\")\n",
    "if prd_content and api_code:\n",
    "    readme_content = get_completion(readme_prompt, client, model_name, api_provider)\n",
    "    cleaned_readme = clean_llm_output(readme_content, language='markdown')\n",
    "    print(cleaned_readme)\n",
    "    save_artifact(cleaned_readme, \"artifacts\\README.md\")\n",
    "else:\n",
    "    print(\"Skipping README generation because PRD or API code is missing.\")"
   ]
  },
  {
   "cell_type": "markdown",
   "metadata": {},
   "source": [
    "## Lab Conclusion\n",
    "\n",
    "Well done! You have used an LLM to perform two of the most valuable code quality tasks: refactoring and documentation. You've seen how AI can help transform messy code into a clean, maintainable structure and how it can generate comprehensive documentation from high-level project artifacts and source code. These skills are a massive productivity multiplier for any development team.\n",
    "\n",
    "> **Key Takeaway:** LLMs excel at understanding and generating structured text, whether that structure is code or documentation. Providing a clear 'before' state (the bad code) and a clear goal (the refactoring principles) allows the AI to perform complex code transformation and documentation tasks efficiently."
   ]
  }
 ],
 "metadata": {
  "kernelspec": {
   "display_name": "venv",
   "language": "python",
   "name": "python3"
  },
  "language_info": {
   "codemirror_mode": {
    "name": "ipython",
    "version": 3
   },
   "file_extension": ".py",
   "mimetype": "text/x-python",
   "name": "python",
   "nbconvert_exporter": "python",
   "pygments_lexer": "ipython3",
   "version": "3.11.5"
  }
 },
 "nbformat": 4,
 "nbformat_minor": 4
}
